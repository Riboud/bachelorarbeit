{
 "cells": [
  {
   "cell_type": "code",
   "execution_count": 3,
   "metadata": {},
   "outputs": [],
   "source": [
    "import random\n",
    "import numpy as np\n",
    "import matplotlib\n",
    "import matplotlib.pyplot as plt\n",
    "from matplotlib.collections import PatchCollection, LineCollection\n",
    "from matplotlib.patches import Polygon\n",
    "from shapely.geometry import Point, LineString, MultiPolygon, MultiLineString, shape"
   ]
  },
  {
   "cell_type": "code",
   "execution_count": 2,
   "metadata": {},
   "outputs": [],
   "source": [
    "def draw_road(ax, road):\n",
    "    pass\n",
    "\n",
    "def draw_vehicle(ax, vehicle):\n",
    "    pass\n",
    "\n",
    "def draw_simulation_world(ax, world):\n",
    "    for road in world.roads:\n",
    "        draw_road(ax, road)\n",
    "    for vehicle in world.vehicles:\n",
    "        draw_vehicle(ax, vehicle)\n",
    "        "
   ]
  },
  {
   "cell_type": "code",
   "execution_count": 19,
   "metadata": {},
   "outputs": [],
   "source": [
    "class Lane:\n",
    "    __slots__ = [\"queue\", \"length\"]\n",
    "    def __init__(self, length):\n",
    "        self.queue = []\n",
    "        self.length = length\n",
    "        \n",
    "class Road:\n",
    "    __slots__ = [\"lanes\", \"next\"]\n",
    "    def __init__(self, length=100, nlanes=3):\n",
    "        self.next = None\n",
    "        self.lanes = []\n",
    "        for i in range(nlanes):\n",
    "            self.lanes.append(Lane(length))\n",
    "            \n",
    "class Vehicle:\n",
    "    __slots__ = [\"max_speed\", \"speed\", \"position\", \"infomation\"]\n",
    "    \n",
    "    @classmethod\n",
    "    def get_vehicle(cls):\n",
    "        vehicle = Vehcile(np.random.randint(5,9))\n",
    "        vehicle.infomation[\"destination\"] = np.random.randint(0,2)\n",
    "        return vehicle\n",
    "    \n",
    "    def __init__(self, max_speed):\n",
    "        self.max_speed = max_speed\n",
    "        self.speed = 0\n",
    "        self.location = 0\n",
    "        self.infomation = {}\n",
    "        \n",
    "    def make_decision(self):\n",
    "        pass\n",
    "        \n",
    "class Source:\n",
    "    __slots__ = [\"queue\", \"average_headway\", \"residule\", \"next\"]\n",
    "    def __init__(self, average_headway):\n",
    "        self.average_headway = average_headway\n",
    "        self.queue = []\n",
    "        self.next = None\n",
    "        self.residule = -0.1\n",
    "        \n",
    "    def step(self):\n",
    "        if self.residule <= 0.0:\n",
    "            self.residule += np.random.exponential(self.average_headway)\n",
    "        \n",
    "        self.residule -= 1.0\n",
    "        if residule <= 0.0:\n",
    "            vehilce = Vehicle.get_vehicle()\n",
    "            self.queue.append(vehilce)\n",
    "            \n",
    "        if self.next:\n",
    "            free_lane = self.next.get_free_lane()\n",
    "            if free_lane is not None:\n",
    "                vehicle = self.queue.pop(0)\n",
    "                self.next.insert_vehicle(vehicle, free_lane)\n",
    "        \n",
    "class World:\n",
    "    __slots__ = [\"time\", \"roads\", \"sources\"]\n",
    "    def __init__(self):\n",
    "        self.roads = []\n",
    "        self.sources = []\n",
    "        \n",
    "    def step(self):\n",
    "        for source in self.sources:\n",
    "            source.step()\n",
    "            \n",
    "        self.dispatch_infomation()\n",
    "        self.enquire_decisions()\n",
    "        self.execute_decisions()\n",
    "        \n",
    "    def dispatch_infomation(self):\n",
    "        for road in self.roads:\n",
    "            road.dispatch_infomation()\n",
    "    \n",
    "    def enquire_decisions(self):\n",
    "        for road in self.roads:\n",
    "            road.enquire_decision()\n",
    "    \n",
    "    def execute_decisions(self):\n",
    "        for road in self.roads:\n",
    "            road.execute_decision"
   ]
  },
  {
   "cell_type": "code",
   "execution_count": 12,
   "metadata": {},
   "outputs": [
    {
     "data": {
      "text/plain": [
       "2.0000537943561745"
      ]
     },
     "execution_count": 12,
     "metadata": {},
     "output_type": "execute_result"
    }
   ],
   "source": [
    "np.random.exponential(2, 1000).mean()"
   ]
  },
  {
   "cell_type": "code",
   "execution_count": null,
   "metadata": {},
   "outputs": [],
   "source": []
  }
 ],
 "metadata": {
  "kernelspec": {
   "display_name": "Python 3",
   "language": "python",
   "name": "python3"
  },
  "language_info": {
   "codemirror_mode": {
    "name": "ipython",
    "version": 3
   },
   "file_extension": ".py",
   "mimetype": "text/x-python",
   "name": "python",
   "nbconvert_exporter": "python",
   "pygments_lexer": "ipython3",
   "version": "3.6.5"
  }
 },
 "nbformat": 4,
 "nbformat_minor": 2
}
