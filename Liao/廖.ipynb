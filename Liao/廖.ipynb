{
 "cells": [
  {
   "cell_type": "code",
   "execution_count": 1,
   "metadata": {},
   "outputs": [],
   "source": [
    "import random\n",
    "import numpy as np\n",
    "import matplotlib\n",
    "import matplotlib.pyplot as plt\n",
    "from matplotlib.collections import PatchCollection, LineCollection\n",
    "from matplotlib.patches import Polygon\n",
    "from shapely.geometry import Point, LineString, MultiPolygon, MultiLineString, shape"
   ]
  },
  {
   "cell_type": "code",
   "execution_count": 19,
   "metadata": {},
   "outputs": [],
   "source": [
    "%run simulator.py"
   ]
  },
  {
   "cell_type": "code",
   "execution_count": 3,
   "metadata": {},
   "outputs": [],
   "source": [
    "car_artists = {}\n",
    "def draw_road(ax, road, x, y, cell_size, is_ani):\n",
    "    if not is_ani:\n",
    "        ax.plot([x*cell_size, (x+road.length)*cell_size], [-y*cell_size, -y*cell_size], \"black\",\n",
    "               linewidth=1)\n",
    "        ax.plot([x*cell_size, (x+road.length)*cell_size],\n",
    "                [(-y-road.nlane)*cell_size, (-y-road.nlane)*cell_size], \"black\", linewidth=1)\n",
    "\n",
    "        for i in range(1, road.nlane):\n",
    "            ax.plot([x*cell_size, (x+road.length)*cell_size], [(-y-i)*cell_size, (-y-i)*cell_size], \n",
    "                    \"b--\", linewidth=1, alpha=0.6)\n",
    "        \n",
    "    xs = []\n",
    "    ys = []\n",
    "    for i, lane in enumerate(road.lanes):\n",
    "        for vehicle in lane.queue:\n",
    "            xs.append((x + vehicle.position + 0.5) * cell_size)\n",
    "            ys.append((-y - i - 0.5)*cell_size)\n",
    "    \n",
    "    if not is_ani:\n",
    "        artist = ax.plot(xs, ys, \"r>\", markersize=3)\n",
    "        car_artists[id(road)] = artist[0]\n",
    "    else:\n",
    "        car_artists[id(road)].set_data(xs, ys)\n",
    "    \n",
    "\n",
    "def draw_simulation_world(ax, world, *, cell_size=10, is_ani=False):\n",
    "    road1, road2, road3 = world.roads[:3]\n",
    "    ramp1, ramp2 = world.roads[3:]\n",
    "    width = (road1.length + road2.length + road3.length) * cell_size\n",
    "    \n",
    "    if not is_ani:\n",
    "        ax.clear()\n",
    "        ax.set_xlim(-20, width+20)\n",
    "        ax.set_ylim(-100, 100)\n",
    "        ax.set_aspect(1)\n",
    "    \n",
    "    draw_road(ax, road1, 0, 0, cell_size, is_ani)\n",
    "    draw_road(ax, road2, road1.length, 0, cell_size, is_ani)\n",
    "    draw_road(ax, road3, road1.length+road2.length, 0, cell_size, is_ani)\n",
    "    draw_road(ax, ramp1, road1.length-ramp1.length, 3, cell_size, is_ani)\n",
    "    draw_road(ax, ramp2, road1.length+road2.length, 3, cell_size, is_ani)"
   ]
  },
  {
   "cell_type": "code",
   "execution_count": 20,
   "metadata": {},
   "outputs": [],
   "source": [
    "world = World()\n",
    "road1 = world.add_road(50, 3)\n",
    "road2 = world.add_road(30, 4)\n",
    "road3 = world.add_road(50, 3)\n",
    "ramp1 = world.add_road(40, 1)\n",
    "ramp2 = world.add_road(40, 1)\n",
    "\n",
    "source1 = world.add_source(1.0)\n",
    "source2 = world.add_source(4.0)\n",
    "\n",
    "road1.connect(road2, 0)\n",
    "road2.connect(road3, 0)\n",
    "ramp1.connect(road2, 3)\n",
    "road2.connect(ramp2, -3)\n",
    "\n",
    "source1.connect(road1)\n",
    "source2.connect(ramp1)"
   ]
  },
  {
   "cell_type": "code",
   "execution_count": 5,
   "metadata": {},
   "outputs": [
    {
     "name": "stdout",
     "output_type": "stream",
     "text": [
      "Vehicle (140368098108696) 1 -> 23\n",
      "Vehicle (140368098109136) 2 -> 24\n",
      "Vehicle (140368098109312) 5 -> 25\n",
      "Vehicle (140368098108960) 4 -> 26\n",
      "Vehicle (140368098109928) 11 -> 28\n",
      "Vehicle (140368098109224) 3 -> 29\n",
      "Vehicle (140368098109664) 9 -> 32\n",
      "Vehicle (140368098109048) 6 -> 33\n",
      "Vehicle (140368098109400) 7 -> 33\n",
      "Vehicle (140368098109752) 10 -> 33\n",
      "Vehicle (140368098109576) 9 -> 34\n",
      "Vehicle (140368098109488) 8 -> 34\n",
      "Vehicle (140368098110016) 13 -> 35\n",
      "Vehicle (140368098109840) 10 -> 36\n",
      "Vehicle (140368098110104) 15 -> 36\n",
      "Vehicle (140368098110456) 15 -> 37\n",
      "Vehicle (140368098110632) 18 -> 38\n",
      "Vehicle (140368098110544) 17 -> 39\n",
      "Vehicle (140368098110368) 16 -> 39\n",
      "Vehicle (140368098110896) 19 -> 40\n",
      "Vehicle (140368098108696) 24 -> 41\n",
      "Vehicle (140368098110280) 14 -> 41\n"
     ]
    }
   ],
   "source": [
    "from matplotlib.animation import FuncAnimation\n",
    "\n",
    "fig = plt.figure(figsize=(12, 4), dpi= 80, facecolor='w', edgecolor='k')\n",
    "ax = fig.add_subplot(111)\n",
    "\n",
    "draw_simulation_world(ax, world, is_ani=False)\n",
    "def update(frame):\n",
    "    draw_simulation_world(ax, world, is_ani=True)\n",
    "    world.step()\n",
    "    return list(car_artists.values())\n",
    "    \n",
    "ani = FuncAnimation(fig, update, frames=40, blit=True)\n",
    "ani.save(\"simulation.mp4\", fps=5)"
   ]
  },
  {
   "cell_type": "code",
   "execution_count": 6,
   "metadata": {},
   "outputs": [
    {
     "name": "stdout",
     "output_type": "stream",
     "text": [
      "ffmpeg version 4.0 Copyright (c) 2000-2018 the FFmpeg developers\n",
      "  built with gcc 8.1.0 (GCC)\n",
      "  configuration: --prefix=/usr --disable-debug --disable-static --disable-stripping --enable-avresample --enable-fontconfig --enable-gmp --enable-gnutls --enable-gpl --enable-ladspa --enable-libass --enable-libbluray --enable-libdrm --enable-libfreetype --enable-libfribidi --enable-libgsm --enable-libiec61883 --enable-libmodplug --enable-libmp3lame --enable-libopencore_amrnb --enable-libopencore_amrwb --enable-libopenjpeg --enable-libopus --enable-libpulse --enable-libsoxr --enable-libspeex --enable-libssh --enable-libtheora --enable-libv4l2 --enable-libvidstab --enable-libvorbis --enable-libvpx --enable-libwebp --enable-libx264 --enable-libx265 --enable-libxcb --enable-libxml2 --enable-libxvid --enable-nvenc --enable-omx --enable-shared --enable-version3\n",
      "  libavutil      56. 14.100 / 56. 14.100\n",
      "  libavcodec     58. 18.100 / 58. 18.100\n",
      "  libavformat    58. 12.100 / 58. 12.100\n",
      "  libavdevice    58.  3.100 / 58.  3.100\n",
      "  libavfilter     7. 16.100 /  7. 16.100\n",
      "  libavresample   4.  0.  0 /  4.  0.  0\n",
      "  libswscale      5.  1.100 /  5.  1.100\n",
      "  libswresample   3.  1.100 /  3.  1.100\n",
      "  libpostproc    55.  1.100 / 55.  1.100\n",
      "Input #0, mov,mp4,m4a,3gp,3g2,mj2, from 'simulation.mp4':\n",
      "  Metadata:\n",
      "    major_brand     : isom\n",
      "    minor_version   : 512\n",
      "    compatible_brands: isomiso2avc1mp41\n",
      "    encoder         : Lavf58.12.100\n",
      "  Duration: 00:00:08.00, start: 0.000000, bitrate: 40 kb/s\n",
      "    Stream #0:0(und): Video: h264 (High) (avc1 / 0x31637661), yuv420p, 960x320, 39 kb/s, 5 fps, 5 tbr, 10240 tbn, 10 tbc (default)\n",
      "    Metadata:\n",
      "      handler_name    : VideoHandler\n",
      "Stream mapping:\n",
      "  Stream #0:0 -> #0:0 (h264 (native) -> ppm (native))\n",
      "Press [q] to stop, [?] for help\n",
      "Output #0, image2pipe, to 'pipe:':\n",
      "  Metadata:\n",
      "    major_brand     : isom\n",
      "    minor_version   : 512\n",
      "    compatible_brands: isomiso2avc1mp41\n",
      "    encoder         : Lavf58.12.100\n",
      "    Stream #0:0(und): Video: ppm, rgb24, 960x320, q=2-31, 200 kb/s, 5 fps, 5 tbn, 5 tbc (default)\n",
      "    Metadata:\n",
      "      handler_name    : VideoHandler\n",
      "      encoder         : Lavc58.18.100 ppm\n",
      "frame=   40 fps=0.0 q=-0.0 Lsize=   36001kB time=00:00:08.00 bitrate=36864.6kbits/s speed=99.3x    \n",
      "video:36001kB audio:0kB subtitle:0kB other streams:0kB global headers:0kB muxing overhead: 0.000000%\n"
     ]
    }
   ],
   "source": [
    "!ffmpeg -i simulation.mp4 -f image2pipe -vcodec ppm - | convert -delay 5 -loop 0 - gif:- | convert -layers Optimize - output.gif    "
   ]
  },
  {
   "cell_type": "code",
   "execution_count": 21,
   "metadata": {},
   "outputs": [
    {
     "ename": "AssertionError",
     "evalue": "",
     "output_type": "error",
     "traceback": [
      "\u001b[0;31m---------------------------------------------------------------------------\u001b[0m",
      "\u001b[0;31mAssertionError\u001b[0m                            Traceback (most recent call last)",
      "\u001b[0;32m<ipython-input-21-6685511d877c>\u001b[0m in \u001b[0;36m<module>\u001b[0;34m()\u001b[0m\n\u001b[1;32m      1\u001b[0m \u001b[0;32mfor\u001b[0m \u001b[0mi\u001b[0m \u001b[0;32min\u001b[0m \u001b[0mrange\u001b[0m\u001b[0;34m(\u001b[0m\u001b[0;36m40\u001b[0m\u001b[0;34m)\u001b[0m\u001b[0;34m:\u001b[0m\u001b[0;34m\u001b[0m\u001b[0m\n\u001b[0;32m----> 2\u001b[0;31m     \u001b[0mworld\u001b[0m\u001b[0;34m.\u001b[0m\u001b[0mstep\u001b[0m\u001b[0;34m(\u001b[0m\u001b[0;34m)\u001b[0m\u001b[0;34m\u001b[0m\u001b[0m\n\u001b[0m",
      "\u001b[0;32m~/Project/bachelorarbeit/Liao/simulator.py\u001b[0m in \u001b[0;36mstep\u001b[0;34m(self)\u001b[0m\n\u001b[1;32m    313\u001b[0m         \u001b[0mself\u001b[0m\u001b[0;34m.\u001b[0m\u001b[0mcollect_information\u001b[0m\u001b[0;34m(\u001b[0m\u001b[0;34m)\u001b[0m\u001b[0;34m\u001b[0m\u001b[0m\n\u001b[1;32m    314\u001b[0m         \u001b[0mself\u001b[0m\u001b[0;34m.\u001b[0m\u001b[0menquire_decisions\u001b[0m\u001b[0;34m(\u001b[0m\u001b[0;34m)\u001b[0m\u001b[0;34m\u001b[0m\u001b[0m\n\u001b[0;32m--> 315\u001b[0;31m         \u001b[0mself\u001b[0m\u001b[0;34m.\u001b[0m\u001b[0mexecute_decisions\u001b[0m\u001b[0;34m(\u001b[0m\u001b[0;34m)\u001b[0m\u001b[0;34m\u001b[0m\u001b[0m\n\u001b[0m\u001b[1;32m    316\u001b[0m \u001b[0;34m\u001b[0m\u001b[0m\n\u001b[1;32m    317\u001b[0m         \u001b[0mself\u001b[0m\u001b[0;34m.\u001b[0m\u001b[0mtime\u001b[0m \u001b[0;34m+=\u001b[0m \u001b[0;36m1\u001b[0m\u001b[0;34m\u001b[0m\u001b[0m\n",
      "\u001b[0;32m~/Project/bachelorarbeit/Liao/simulator.py\u001b[0m in \u001b[0;36mexecute_decisions\u001b[0;34m(self)\u001b[0m\n\u001b[1;32m    334\u001b[0m     \u001b[0;32mdef\u001b[0m \u001b[0mexecute_decisions\u001b[0m\u001b[0;34m(\u001b[0m\u001b[0mself\u001b[0m\u001b[0;34m)\u001b[0m\u001b[0;34m:\u001b[0m\u001b[0;34m\u001b[0m\u001b[0m\n\u001b[1;32m    335\u001b[0m         \u001b[0;32mfor\u001b[0m \u001b[0mroad\u001b[0m \u001b[0;32min\u001b[0m \u001b[0mself\u001b[0m\u001b[0;34m.\u001b[0m\u001b[0mroads\u001b[0m\u001b[0;34m:\u001b[0m\u001b[0;34m\u001b[0m\u001b[0m\n\u001b[0;32m--> 336\u001b[0;31m             \u001b[0mroad\u001b[0m\u001b[0;34m.\u001b[0m\u001b[0mexecute_decision\u001b[0m\u001b[0;34m(\u001b[0m\u001b[0;34m)\u001b[0m\u001b[0;34m\u001b[0m\u001b[0m\n\u001b[0m",
      "\u001b[0;32m~/Project/bachelorarbeit/Liao/simulator.py\u001b[0m in \u001b[0;36mexecute_decision\u001b[0;34m(self)\u001b[0m\n\u001b[1;32m    204\u001b[0m \u001b[0;34m\u001b[0m\u001b[0m\n\u001b[1;32m    205\u001b[0m                     \u001b[0mvehicle\u001b[0m\u001b[0;34m.\u001b[0m\u001b[0mhorizontal_speed\u001b[0m \u001b[0;34m=\u001b[0m \u001b[0;36m0\u001b[0m\u001b[0;34m\u001b[0m\u001b[0m\n\u001b[0;32m--> 206\u001b[0;31m                     \u001b[0mdest_lane\u001b[0m\u001b[0;34m.\u001b[0m\u001b[0minsert\u001b[0m\u001b[0;34m(\u001b[0m\u001b[0mvehicle\u001b[0m\u001b[0;34m)\u001b[0m\u001b[0;34m\u001b[0m\u001b[0m\n\u001b[0m\u001b[1;32m    207\u001b[0m \u001b[0;34m\u001b[0m\u001b[0m\n\u001b[1;32m    208\u001b[0m             \u001b[0mlane\u001b[0m\u001b[0;34m.\u001b[0m\u001b[0mqueue\u001b[0m \u001b[0;34m=\u001b[0m \u001b[0mnew_queue\u001b[0m\u001b[0;34m\u001b[0m\u001b[0m\n",
      "\u001b[0;32m~/Project/bachelorarbeit/Liao/simulator.py\u001b[0m in \u001b[0;36minsert\u001b[0;34m(self, vehicle)\u001b[0m\n\u001b[1;32m     56\u001b[0m         \u001b[0;32melse\u001b[0m\u001b[0;34m:\u001b[0m\u001b[0;34m\u001b[0m\u001b[0m\n\u001b[1;32m     57\u001b[0m             \u001b[0;32mfor\u001b[0m \u001b[0mi\u001b[0m \u001b[0;32min\u001b[0m \u001b[0mrange\u001b[0m\u001b[0;34m(\u001b[0m\u001b[0mlen\u001b[0m\u001b[0;34m(\u001b[0m\u001b[0mself\u001b[0m\u001b[0;34m.\u001b[0m\u001b[0mqueue\u001b[0m\u001b[0;34m)\u001b[0m\u001b[0;34m)\u001b[0m\u001b[0;34m:\u001b[0m\u001b[0;34m\u001b[0m\u001b[0m\n\u001b[0;32m---> 58\u001b[0;31m                 \u001b[0;32massert\u001b[0m \u001b[0mvehicle\u001b[0m\u001b[0;34m.\u001b[0m\u001b[0mposition\u001b[0m \u001b[0;34m!=\u001b[0m \u001b[0mself\u001b[0m\u001b[0;34m.\u001b[0m\u001b[0mqueue\u001b[0m\u001b[0;34m[\u001b[0m\u001b[0mi\u001b[0m\u001b[0;34m]\u001b[0m\u001b[0;34m.\u001b[0m\u001b[0mposition\u001b[0m\u001b[0;34m\u001b[0m\u001b[0m\n\u001b[0m\u001b[1;32m     59\u001b[0m                 \u001b[0;32mif\u001b[0m \u001b[0mvehicle\u001b[0m\u001b[0;34m.\u001b[0m\u001b[0mposition\u001b[0m \u001b[0;34m<\u001b[0m \u001b[0mself\u001b[0m\u001b[0;34m.\u001b[0m\u001b[0mqueue\u001b[0m\u001b[0;34m[\u001b[0m\u001b[0mi\u001b[0m\u001b[0;34m]\u001b[0m\u001b[0;34m.\u001b[0m\u001b[0mposition\u001b[0m\u001b[0;34m:\u001b[0m\u001b[0;34m\u001b[0m\u001b[0m\n\u001b[1;32m     60\u001b[0m                     \u001b[0mself\u001b[0m\u001b[0;34m.\u001b[0m\u001b[0mqueue\u001b[0m\u001b[0;34m.\u001b[0m\u001b[0minsert\u001b[0m\u001b[0;34m(\u001b[0m\u001b[0mi\u001b[0m\u001b[0;34m,\u001b[0m \u001b[0mvehicle\u001b[0m\u001b[0;34m)\u001b[0m\u001b[0;34m\u001b[0m\u001b[0m\n",
      "\u001b[0;31mAssertionError\u001b[0m: "
     ]
    }
   ],
   "source": [
    "for i in range(40):\n",
    "    world.step()"
   ]
  },
  {
   "cell_type": "code",
   "execution_count": 75,
   "metadata": {},
   "outputs": [
    {
     "data": {
      "image/png": "[encoded data removed]",
      "text/plain": [
       "<Figure size 960x320 with 1 Axes>"
      ]
     },
     "metadata": {},
     "output_type": "display_data"
    }
   ],
   "source": [
    "fig = plt.figure(figsize=(12, 4), dpi= 80, facecolor='w', edgecolor='k')\n",
    "ax = fig.add_subplot(111)\n",
    "draw_simulation_world(ax, world)\n",
    "plt.show()"
   ]
  },
  {
   "cell_type": "code",
   "execution_count": 89,
   "metadata": {},
   "outputs": [
    {
     "data": {
      "text/plain": [
       "{'destination': 1,\n",
       " 'enter_time': 24,\n",
       " 'front_gap': 14,\n",
       " 'left_front_gap': None,\n",
       " 'left_back_gap': None,\n",
       " 'right_front_gap': 27,\n",
       " 'right_back_gap': 37}"
      ]
     },
     "execution_count": 89,
     "metadata": {},
     "output_type": "execute_result"
    }
   ],
   "source": [
    "world.roads[1].lanes[0].queue[0].information"
   ]
  },
  {
   "cell_type": "code",
   "execution_count": null,
   "metadata": {},
   "outputs": [],
   "source": []
  }
 ],
 "metadata": {
  "kernelspec": {
   "display_name": "Python 3",
   "language": "python",
   "name": "python3"
  },
  "language_info": {
   "codemirror_mode": {
    "name": "ipython",
    "version": 3
   },
   "file_extension": ".py",
   "mimetype": "text/x-python",
   "name": "python",
   "nbconvert_exporter": "python",
   "pygments_lexer": "ipython3",
   "version": "3.6.5"
  }
 },
 "nbformat": 4,
 "nbformat_minor": 2
}
